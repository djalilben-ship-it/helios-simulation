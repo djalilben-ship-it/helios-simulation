# Imports
import pandas as pd
from src import stats_analysis

# Example helium production data (Nm3/day) — replace with real logs if available
data = pd.Series([100, 105, 98, 110, 102, 99, 101, 107, 103, 108])

# Run basic stats
stats = stats_analysis.basic_stats(data)
print("Statistics:", stats)

# Plot control chart
stats_analysis.plot_control_chart(data, "Helium Production Control Chart")
